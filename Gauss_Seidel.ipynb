def seidel(a, x, b):
    n = len(a)
    for j in range(0, n):
        d = b[j]
        for i in range(0, n):
            if j != i:
                d -= a[j][i] * x[i]
        x[j] = d / a[j][j]
    return x

def f1(x, y, z):
    return (7.85 + 0.1 * y + 0.2 * z) / 3

def f2(x, y, z):
    return (-19.3 - 0.1 * x + 0.3 * z) / 7

def f3(x, y, z):
    return (71.4 - 0.3 * x + 0.2 * y) / 10

def gauss_seidel(a, x, b, tol):
    n = len(x)
    count = 1
    while True:
        x_prev = x.copy()  # Salin solusi sebelumnya untuk menghitung toleransi
        x = seidel(a, x, b)
        e1 = abs(x[0] - x_prev[0])
        e2 = abs(x[1] - x_prev[1])
        e3 = abs(x[2] - x_prev[2])

        if e1 <= tol and e2 <= tol and e3 <= tol:
            break

        print(f"Iteration {count}: x={x[0]:.4f}, y={x[1]:.4f}, z={x[2]:.4f}")
        count += 1

tolerance = float(input("Enter tolerable error: "))
x0, y0, z0 = 0, 0, 0
initial_solution = [x0, y0, z0]
a = [[3, -0.1, -0.2], [0.1, 7, -0.3], [0.3, -0.2, 10]]
b = [7.85, -19.3, 71.4]

print("\nInitial Solution: x=0, y=0, z=0")
gauss_seidel(a, initial_solution, b, tolerance)
