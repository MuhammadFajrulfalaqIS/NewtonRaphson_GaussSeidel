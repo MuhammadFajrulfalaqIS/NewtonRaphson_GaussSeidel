def newton_raphson(func, derivfunc, x0, tolerance=0.0001, max_iter=1000):
    for i in range(max_iter):
        xnew = x0 - func(x0) / derivfunc(x0)
        if abs(xnew - x0) < tolerance:
            break
        x0 = xnew
    return xnew, i

# Fungsi pertama
y1 = lambda x: x**3 - 4*x**2 + 1
dy1 = lambda x: 3*x**2 - 8*x

# Fungsi kedua
y2 = lambda x: x**2 - 2
dy2 = lambda x: 2*x

# Solusi untuk fungsi pertama
x1, n1 = newton_raphson(y1, dy1, 0.5)
print("Solusi untuk fungsi pertama:")
print("Nilai akar adalah %.4f pada iterasi ke-%d" % (x1, n1))

# Solusi untuk fungsi kedua
x2, n2 = newton_raphson(y2, dy2, 5, tolerance=0.0001)
print("\nSolusi untuk fungsi kedua:")
print("Nilai akar adalah %.4f pada iterasi ke-%d" % (x2, n2))
